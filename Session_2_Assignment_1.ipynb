{
 "cells": [
  {
   "cell_type": "code",
   "execution_count": 7,
   "metadata": {},
   "outputs": [
    {
     "name": "stdout",
     "output_type": "stream",
     "text": [
      "Enter a sequence of numbers- separated by comma : 1,2,3,4,5\n",
      " Entered sequence is :  1,2,3,4,5\n",
      " List of numbers :  ['1', '3', '4', '5', '6']\n"
     ]
    }
   ],
   "source": [
    "# Session 2 - Assignment 1\n",
    "# Program which accepts a sequence of comma-separated numbers from console\n",
    "# and generate a list.\n",
    "\n",
    "# Accept a sequence of comma separated numbers\n",
    "num = input(\"Enter a sequence of numbers- separated by comma : \")\n",
    "print(\" Entered sequence is : \", num)\n",
    "\n",
    "# Split the string with a comma as delimitter\n",
    "lst = n.split(\",\")\n",
    "print(\" List of numbers : \", lst)"
   ]
  },
  {
   "cell_type": "code",
   "execution_count": null,
   "metadata": {},
   "outputs": [],
   "source": []
  }
 ],
 "metadata": {
  "kernelspec": {
   "display_name": "Python 3",
   "language": "python",
   "name": "python3"
  },
  "language_info": {
   "codemirror_mode": {
    "name": "ipython",
    "version": 3
   },
   "file_extension": ".py",
   "mimetype": "text/x-python",
   "name": "python",
   "nbconvert_exporter": "python",
   "pygments_lexer": "ipython3",
   "version": "3.6.4"
  }
 },
 "nbformat": 4,
 "nbformat_minor": 2
}
